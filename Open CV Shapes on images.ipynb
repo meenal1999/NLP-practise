{
 "cells": [
  {
   "cell_type": "code",
   "execution_count": 1,
   "metadata": {},
   "outputs": [],
   "source": [
    "import cv2"
   ]
  },
  {
   "cell_type": "code",
   "execution_count": 2,
   "metadata": {},
   "outputs": [],
   "source": [
    "path=r'C:\\Users\\Meenal\\Downloads\\lena_color_512.tif'"
   ]
  },
  {
   "cell_type": "code",
   "execution_count": 23,
   "metadata": {},
   "outputs": [],
   "source": [
    "img=cv2.imread(path)"
   ]
  },
  {
   "cell_type": "code",
   "execution_count": 24,
   "metadata": {},
   "outputs": [
    {
     "data": {
      "text/plain": [
       "array([[[125, 137, 226],\n",
       "        [125, 137, 226],\n",
       "        [133, 137, 223],\n",
       "        ...,\n",
       "        [122, 148, 230],\n",
       "        [110, 130, 221],\n",
       "        [ 90,  99, 200]],\n",
       "\n",
       "       [[125, 137, 226],\n",
       "        [125, 137, 226],\n",
       "        [133, 137, 223],\n",
       "        ...,\n",
       "        [122, 148, 230],\n",
       "        [110, 130, 221],\n",
       "        [ 90,  99, 200]],\n",
       "\n",
       "       [[125, 137, 226],\n",
       "        [125, 137, 226],\n",
       "        [133, 137, 223],\n",
       "        ...,\n",
       "        [122, 148, 230],\n",
       "        [110, 130, 221],\n",
       "        [ 90,  99, 200]],\n",
       "\n",
       "       ...,\n",
       "\n",
       "       [[ 60,  18,  84],\n",
       "        [ 60,  18,  84],\n",
       "        [ 58,  27,  92],\n",
       "        ...,\n",
       "        [ 84,  73, 173],\n",
       "        [ 76,  68, 172],\n",
       "        [ 79,  62, 177]],\n",
       "\n",
       "       [[ 57,  22,  82],\n",
       "        [ 57,  22,  82],\n",
       "        [ 62,  32,  96],\n",
       "        ...,\n",
       "        [ 79,  70, 179],\n",
       "        [ 81,  71, 181],\n",
       "        [ 81,  74, 185]],\n",
       "\n",
       "       [[ 57,  22,  82],\n",
       "        [ 57,  22,  82],\n",
       "        [ 62,  32,  96],\n",
       "        ...,\n",
       "        [ 79,  70, 179],\n",
       "        [ 81,  71, 181],\n",
       "        [ 81,  74, 185]]], dtype=uint8)"
      ]
     },
     "execution_count": 24,
     "metadata": {},
     "output_type": "execute_result"
    }
   ],
   "source": [
    "img"
   ]
  },
  {
   "cell_type": "code",
   "execution_count": 25,
   "metadata": {},
   "outputs": [],
   "source": [
    "cv2.imshow(\"My Image\",img)       #displays the box, title name and img\n",
    "cv2.waitKey(0)       #gives exit command using any key press\n",
    "cv2.destroyAllWindows()    #closses all windows open\n",
    "\n"
   ]
  },
  {
   "cell_type": "code",
   "execution_count": 15,
   "metadata": {},
   "outputs": [
    {
     "data": {
      "text/plain": [
       "(512, 512, 3)"
      ]
     },
     "execution_count": 15,
     "metadata": {},
     "output_type": "execute_result"
    }
   ],
   "source": [
    "img.shape\n",
    "#512 pixcels cross 512 pixcels with 3 as dimension for RGB colors"
   ]
  },
  {
   "cell_type": "code",
   "execution_count": 16,
   "metadata": {},
   "outputs": [
    {
     "data": {
      "text/plain": [
       "786432"
      ]
     },
     "execution_count": 16,
     "metadata": {},
     "output_type": "execute_result"
    }
   ],
   "source": [
    "img.size\n",
    "#from 512*512*3"
   ]
  },
  {
   "cell_type": "code",
   "execution_count": 18,
   "metadata": {},
   "outputs": [
    {
     "data": {
      "text/plain": [
       "3"
      ]
     },
     "execution_count": 18,
     "metadata": {},
     "output_type": "execute_result"
    }
   ],
   "source": [
    "img.ndim"
   ]
  },
  {
   "cell_type": "markdown",
   "metadata": {},
   "source": [
    "\n",
    "# Drawing line on Img"
   ]
  },
  {
   "cell_type": "code",
   "execution_count": 54,
   "metadata": {},
   "outputs": [],
   "source": [
    "import numpy as np"
   ]
  },
  {
   "cell_type": "code",
   "execution_count": 55,
   "metadata": {},
   "outputs": [],
   "source": [
    "#img=np.ones((512,512,3),np.uint8)     #for complete black\n",
    "img=np.ones((512,512,3),np.uint8)*255     #for grey or white multiply by a number ans for white *255\n",
    "#for color do next line\n",
    "#img[:]=(0,0,255)    #BGR format\n",
    "cv2.line(img,(25,300),(300,25),(120,80,50),5)    #max size can be tilll 512 as per dimentions of img\n",
    "#syntax for above is (img,(x,y),(x2,y2),(r,g,b),Width)\n",
    "\n",
    "#also y axis starts from top andincreases downwards while x increases left to right as usual\n",
    "\n",
    "cv2.imshow(\"My Image\",img)\n",
    "cv2.waitKey(0) \n",
    "cv2.destroyAllWindows()    "
   ]
  },
  {
   "cell_type": "markdown",
   "metadata": {},
   "source": [
    "# Drawing rectangle"
   ]
  },
  {
   "cell_type": "code",
   "execution_count": 56,
   "metadata": {},
   "outputs": [],
   "source": [
    "img=np.ones((512,512,3),np.uint8)*255     \n",
    "cv2.rectangle(img,(25,300),(300,25),(120,80,50),-1)\n",
    "#If only border width then write 5 but to fill u dont need border width so just write -1 to fill color\n",
    "cv2.imshow(\"My Image\",img)\n",
    "cv2.waitKey(0) \n",
    "cv2.destroyAllWindows()   "
   ]
  },
  {
   "cell_type": "markdown",
   "metadata": {},
   "source": [
    "# Drawing Circle"
   ]
  },
  {
   "cell_type": "code",
   "execution_count": 57,
   "metadata": {},
   "outputs": [],
   "source": [
    "img=np.ones((512,512,3),np.uint8)*255     \n",
    "cv2.circle(img,(250,250),130,(120,80,50),8)\n",
    "cv2.circle(img,(250,250),40,(0,0,255),-1)\n",
    "#syntax for above is (img,(x,y)for centre,radius,(r,g,b),Width)\n",
    "cv2.imshow(\"My Image\",img)\n",
    "cv2.waitKey(0) \n",
    "cv2.destroyAllWindows() "
   ]
  },
  {
   "cell_type": "markdown",
   "metadata": {},
   "source": [
    "# Drawing Ellipse\n"
   ]
  },
  {
   "cell_type": "code",
   "execution_count": 60,
   "metadata": {},
   "outputs": [],
   "source": [
    "img=np.ones((512,512,3),np.uint8)*255     \n",
    "cv2.ellipse(img,(250,250),(100,70),0,0,360,(120,80,50),3)\n",
    "#syntax for above is (img,(x,y)for centre,(minor_axis_length i.e y axis,major_axis_length i.e x axis),x_rotation,y_rotation,complete circle display or partial  ,(r,g,b),Width)\n",
    "cv2.imshow(\"My Image\",img)\n",
    "cv2.waitKey(0) \n",
    "cv2.destroyAllWindows() "
   ]
  },
  {
   "cell_type": "markdown",
   "metadata": {},
   "source": [
    "# Drawing Polygons"
   ]
  },
  {
   "cell_type": "code",
   "execution_count": 64,
   "metadata": {},
   "outputs": [],
   "source": [
    "img=np.ones((512,512,3),np.uint8)*255  \n",
    "points=np.array([[223,245],[77,160],[33,90]],np.int32)    #3 points for a triangle\n",
    "cv2.polylines(img,[points],True,(120,80,50),3)\n",
    "#syntax for above is (img,True for complete closed figure, False to leace it open ended and not join 1 and 3 points, (r,g,b),Width)\n",
    "cv2.imshow(\"My Image\",img)\n",
    "cv2.waitKey(0) \n",
    "cv2.destroyAllWindows() "
   ]
  },
  {
   "cell_type": "code",
   "execution_count": 65,
   "metadata": {},
   "outputs": [],
   "source": [
    "img=np.ones((512,512,3),np.uint8)*255  \n",
    "points = np.array([[200,100],[400,20],[300,6],[500,100]],np.int32)\n",
    "cv2.polylines(img,[points],True,(120,80,50),3)\n",
    "\n",
    "cv2.imshow(\"My Image\",img)\n",
    "cv2.waitKey(0) \n",
    "cv2.destroyAllWindows() "
   ]
  },
  {
   "cell_type": "markdown",
   "metadata": {},
   "source": [
    "# Writing Text\n"
   ]
  },
  {
   "cell_type": "code",
   "execution_count": 76,
   "metadata": {},
   "outputs": [],
   "source": [
    "img=np.ones((512,512,3),np.uint8)*255  \n",
    "cv2.putText(img,\"Meenal\",(50,200),cv2.FONT_HERSHEY_DUPLEX,3,(0,80,250))\n",
    "#syntax(img,text,fontstyle,fontsize,color)\n",
    "#fontsize =-1 then inverted img\n",
    "\n",
    "cv2.imshow(\"My Image\",img)\n",
    "cv2.waitKey(0) \n",
    "cv2.destroyAllWindows() "
   ]
  },
  {
   "cell_type": "code",
   "execution_count": null,
   "metadata": {},
   "outputs": [],
   "source": []
  }
 ],
 "metadata": {
  "kernelspec": {
   "display_name": "Python 3",
   "language": "python",
   "name": "python3"
  },
  "language_info": {
   "codemirror_mode": {
    "name": "ipython",
    "version": 3
   },
   "file_extension": ".py",
   "mimetype": "text/x-python",
   "name": "python",
   "nbconvert_exporter": "python",
   "pygments_lexer": "ipython3",
   "version": "3.7.3"
  }
 },
 "nbformat": 4,
 "nbformat_minor": 2
}
