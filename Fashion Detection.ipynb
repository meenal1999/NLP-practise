{
 "cells": [
  {
   "cell_type": "code",
   "execution_count": 1,
   "metadata": {
    "colab": {},
    "colab_type": "code",
    "id": "taKuJ2R0pWG8"
   },
   "outputs": [],
   "source": [
    "import tensorflow as tf\n",
    "import numpy as np\n",
    "import matplotlib.pyplot as plt"
   ]
  },
  {
   "cell_type": "code",
   "execution_count": 2,
   "metadata": {
    "colab": {},
    "colab_type": "code",
    "id": "HAblv1Wgp4v7"
   },
   "outputs": [],
   "source": [
    "fashion_mnist = tf.keras.datasets.fashion_mnist"
   ]
  },
  {
   "cell_type": "code",
   "execution_count": 3,
   "metadata": {
    "colab": {},
    "colab_type": "code",
    "id": "dDWuK_ORqCtX"
   },
   "outputs": [
    {
     "name": "stdout",
     "output_type": "stream",
     "text": [
      "Downloading data from https://storage.googleapis.com/tensorflow/tf-keras-datasets/train-labels-idx1-ubyte.gz\n",
      "32768/29515 [=================================] - 0s 1us/step\n",
      "Downloading data from https://storage.googleapis.com/tensorflow/tf-keras-datasets/train-images-idx3-ubyte.gz\n",
      "26427392/26421880 [==============================] - 5s 0us/step\n",
      "Downloading data from https://storage.googleapis.com/tensorflow/tf-keras-datasets/t10k-labels-idx1-ubyte.gz\n",
      "8192/5148 [===============================================] - 0s 3us/step\n",
      "Downloading data from https://storage.googleapis.com/tensorflow/tf-keras-datasets/t10k-images-idx3-ubyte.gz\n",
      "4423680/4422102 [==============================] - 1s 0us/step\n"
     ]
    }
   ],
   "source": [
    "(train_images,train_labels),(test_images,test_labels) = fashion_mnist.load_data()"
   ]
  },
  {
   "cell_type": "code",
   "execution_count": 22,
   "metadata": {
    "colab": {
     "base_uri": "https://localhost:8080/",
     "height": 34
    },
    "colab_type": "code",
    "executionInfo": {
     "elapsed": 2841,
     "status": "ok",
     "timestamp": 1587824687473,
     "user": {
      "displayName": "Umang Kejriwal",
      "photoUrl": "https://lh3.googleusercontent.com/a-/AOh14Gj76Gl6jqgff6ujv0NxoHqUfAaP6_V6lg4K5Hr5-A=s64",
      "userId": "06922987637552890318"
     },
     "user_tz": -330
    },
    "id": "6oZRQgB3qbkM",
    "outputId": "8af25a05-8ce6-4277-a236-7bc88c821e33"
   },
   "outputs": [
    {
     "data": {
      "text/plain": [
       "(60000, 28, 28)"
      ]
     },
     "execution_count": 22,
     "metadata": {},
     "output_type": "execute_result"
    }
   ],
   "source": [
    "train_images.shape"
   ]
  },
  {
   "cell_type": "code",
   "execution_count": 26,
   "metadata": {},
   "outputs": [
    {
     "name": "stdout",
     "output_type": "stream",
     "text": [
      "(28, 28)\n",
      "  \n",
      "[[0.         0.         0.         0.         0.         0.00392157\n",
      "  0.         0.         0.         0.         0.16078431 0.7372549\n",
      "  0.40392157 0.21176471 0.18823529 0.16862745 0.34117647 0.65882353\n",
      "  0.52156863 0.0627451  0.         0.         0.         0.\n",
      "  0.         0.         0.         0.        ]\n",
      " [0.         0.         0.         0.00392157 0.         0.\n",
      "  0.         0.19215686 0.53333333 0.85882353 0.84705882 0.89411765\n",
      "  0.9254902  1.         1.         1.         1.         0.85098039\n",
      "  0.84313725 0.99607843 0.90588235 0.62745098 0.17647059 0.\n",
      "  0.         0.         0.         0.        ]\n",
      " [0.         0.         0.         0.         0.         0.05490196\n",
      "  0.69019608 0.87058824 0.87843137 0.83137255 0.79607843 0.77647059\n",
      "  0.76862745 0.78431373 0.84313725 0.8        0.79215686 0.78823529\n",
      "  0.78823529 0.78823529 0.81960784 0.85490196 0.87843137 0.64313725\n",
      "  0.         0.         0.         0.        ]\n",
      " [0.         0.         0.         0.         0.         0.7372549\n",
      "  0.85882353 0.78431373 0.77647059 0.79215686 0.77647059 0.78039216\n",
      "  0.78039216 0.78823529 0.76862745 0.77647059 0.77647059 0.78431373\n",
      "  0.78431373 0.78431373 0.78431373 0.78823529 0.78431373 0.88235294\n",
      "  0.16078431 0.         0.         0.        ]\n",
      " [0.         0.         0.         0.         0.2        0.85882353\n",
      "  0.78039216 0.79607843 0.79607843 0.83137255 0.93333333 0.97254902\n",
      "  0.98039216 0.96078431 0.97647059 0.96470588 0.96862745 0.98823529\n",
      "  0.97254902 0.92156863 0.81176471 0.79607843 0.79607843 0.87058824\n",
      "  0.54901961 0.         0.         0.        ]\n",
      " [0.         0.         0.         0.         0.45490196 0.88627451\n",
      "  0.80784314 0.8        0.81176471 0.8        0.39607843 0.29411765\n",
      "  0.18431373 0.28627451 0.18823529 0.19607843 0.17647059 0.2\n",
      "  0.24705882 0.44313725 0.87058824 0.79215686 0.80784314 0.8627451\n",
      "  0.87843137 0.         0.         0.        ]\n",
      " [0.         0.         0.         0.         0.78431373 0.87058824\n",
      "  0.81960784 0.79607843 0.84313725 0.78431373 0.         0.2745098\n",
      "  0.38431373 0.         0.40392157 0.23137255 0.26666667 0.27843137\n",
      "  0.19215686 0.         0.85882353 0.80784314 0.83921569 0.82352941\n",
      "  0.98039216 0.14901961 0.         0.        ]\n",
      " [0.         0.         0.         0.         0.96862745 0.85490196\n",
      "  0.83137255 0.82352941 0.84313725 0.83921569 0.         0.99607843\n",
      "  0.95294118 0.54509804 1.         0.68235294 0.98431373 1.\n",
      "  0.80392157 0.         0.84313725 0.85098039 0.83921569 0.81568627\n",
      "  0.8627451  0.37254902 0.         0.        ]\n",
      " [0.         0.         0.         0.17647059 0.88627451 0.83921569\n",
      "  0.83921569 0.84313725 0.87843137 0.80392157 0.         0.16470588\n",
      "  0.1372549  0.23529412 0.0627451  0.06666667 0.04705882 0.05098039\n",
      "  0.2745098  0.         0.74117647 0.84705882 0.83137255 0.80784314\n",
      "  0.83137255 0.61176471 0.         0.        ]\n",
      " [0.         0.         0.         0.64313725 0.92156863 0.83921569\n",
      "  0.82745098 0.8627451  0.84705882 0.78823529 0.20392157 0.27843137\n",
      "  0.34901961 0.36862745 0.3254902  0.30588235 0.2745098  0.29803922\n",
      "  0.36078431 0.34117647 0.80784314 0.81176471 0.87058824 0.83529412\n",
      "  0.85882353 0.81568627 0.         0.        ]\n",
      " [0.         0.         0.         0.41568627 0.73333333 0.8745098\n",
      "  0.92941176 0.97254902 0.82745098 0.77647059 0.98823529 0.98039216\n",
      "  0.97254902 0.96078431 0.97254902 0.98823529 0.99215686 0.98039216\n",
      "  0.98823529 0.9372549  0.78823529 0.83137255 0.88235294 0.84313725\n",
      "  0.75686275 0.44313725 0.         0.        ]\n",
      " [0.         0.         0.         0.         0.         0.06666667\n",
      "  0.21176471 0.62352941 0.87058824 0.75686275 0.81568627 0.75294118\n",
      "  0.77254902 0.78431373 0.78431373 0.78431373 0.78431373 0.78823529\n",
      "  0.79607843 0.76470588 0.82352941 0.64705882 0.         0.\n",
      "  0.         0.         0.         0.        ]\n",
      " [0.         0.         0.         0.         0.         0.\n",
      "  0.         0.18431373 0.88235294 0.75294118 0.83921569 0.79607843\n",
      "  0.80784314 0.8        0.8        0.80392157 0.80784314 0.8\n",
      "  0.83137255 0.77254902 0.85490196 0.41960784 0.         0.\n",
      "  0.         0.         0.         0.        ]\n",
      " [0.         0.         0.         0.         0.00392157 0.02352941\n",
      "  0.         0.18039216 0.83137255 0.76470588 0.83137255 0.79215686\n",
      "  0.80784314 0.80392157 0.8        0.80392157 0.80784314 0.8\n",
      "  0.83137255 0.78431373 0.85490196 0.35686275 0.         0.01176471\n",
      "  0.00392157 0.         0.         0.        ]\n",
      " [0.         0.         0.         0.         0.         0.00392157\n",
      "  0.         0.04313725 0.77254902 0.78039216 0.80392157 0.79215686\n",
      "  0.80392157 0.80784314 0.8        0.80392157 0.81176471 0.8\n",
      "  0.80392157 0.80392157 0.85490196 0.30196078 0.         0.01960784\n",
      "  0.         0.         0.         0.        ]\n",
      " [0.         0.         0.         0.         0.         0.01176471\n",
      "  0.         0.00784314 0.74901961 0.77647059 0.78823529 0.80392157\n",
      "  0.80784314 0.80392157 0.80392157 0.80784314 0.81960784 0.80784314\n",
      "  0.78039216 0.81960784 0.85882353 0.29019608 0.         0.01960784\n",
      "  0.         0.         0.         0.        ]\n",
      " [0.         0.         0.         0.         0.         0.00784314\n",
      "  0.         0.         0.7372549  0.77254902 0.78431373 0.81176471\n",
      "  0.81176471 0.8        0.81176471 0.81176471 0.82352941 0.81568627\n",
      "  0.77647059 0.81176471 0.86666667 0.28235294 0.         0.01568627\n",
      "  0.         0.         0.         0.        ]\n",
      " [0.         0.         0.         0.         0.         0.00784314\n",
      "  0.         0.         0.84313725 0.77647059 0.79607843 0.80784314\n",
      "  0.81568627 0.80392157 0.81176471 0.81176471 0.82352941 0.81568627\n",
      "  0.78431373 0.79215686 0.87058824 0.29411765 0.         0.01568627\n",
      "  0.         0.         0.         0.        ]\n",
      " [0.         0.         0.         0.         0.         0.00392157\n",
      "  0.         0.         0.83137255 0.77647059 0.81960784 0.80784314\n",
      "  0.81960784 0.80784314 0.81568627 0.81176471 0.82745098 0.80784314\n",
      "  0.80392157 0.77647059 0.86666667 0.31372549 0.         0.01176471\n",
      "  0.         0.         0.         0.        ]\n",
      " [0.         0.         0.         0.         0.         0.00392157\n",
      "  0.         0.         0.8        0.78823529 0.80392157 0.81568627\n",
      "  0.81176471 0.80392157 0.82745098 0.80392157 0.82352941 0.82352941\n",
      "  0.81960784 0.76470588 0.86666667 0.37647059 0.         0.01176471\n",
      "  0.         0.         0.         0.        ]\n",
      " [0.         0.         0.         0.         0.         0.00392157\n",
      "  0.         0.         0.79215686 0.78823529 0.80392157 0.81960784\n",
      "  0.81176471 0.80392157 0.83529412 0.80784314 0.82352941 0.81960784\n",
      "  0.82352941 0.76078431 0.85098039 0.41176471 0.         0.00784314\n",
      "  0.         0.         0.         0.        ]\n",
      " [0.         0.         0.         0.         0.         0.00392157\n",
      "  0.         0.         0.8        0.8        0.80392157 0.81568627\n",
      "  0.81176471 0.80392157 0.84313725 0.81176471 0.82352941 0.81568627\n",
      "  0.82745098 0.75686275 0.83529412 0.45098039 0.         0.00784314\n",
      "  0.         0.         0.         0.        ]\n",
      " [0.         0.         0.         0.         0.         0.\n",
      "  0.         0.         0.8        0.81176471 0.81176471 0.81568627\n",
      "  0.80784314 0.80784314 0.84313725 0.82352941 0.82352941 0.81176471\n",
      "  0.83137255 0.76470588 0.82352941 0.4627451  0.         0.00784314\n",
      "  0.         0.         0.         0.        ]\n",
      " [0.         0.         0.         0.         0.         0.00392157\n",
      "  0.         0.         0.77647059 0.81568627 0.81568627 0.81568627\n",
      "  0.8        0.81176471 0.83137255 0.83137255 0.82352941 0.81176471\n",
      "  0.82745098 0.76862745 0.81176471 0.4745098  0.         0.00392157\n",
      "  0.         0.         0.         0.        ]\n",
      " [0.         0.         0.         0.         0.         0.00392157\n",
      "  0.         0.         0.77647059 0.82352941 0.81176471 0.81568627\n",
      "  0.80784314 0.81960784 0.83529412 0.83137255 0.82745098 0.81176471\n",
      "  0.82352941 0.77254902 0.81176471 0.48627451 0.         0.00392157\n",
      "  0.         0.         0.         0.        ]\n",
      " [0.         0.         0.         0.         0.         0.\n",
      "  0.         0.         0.6745098  0.82352941 0.79607843 0.78823529\n",
      "  0.78039216 0.8        0.81176471 0.80392157 0.8        0.78823529\n",
      "  0.80392157 0.77254902 0.80784314 0.49803922 0.         0.\n",
      "  0.         0.         0.         0.        ]\n",
      " [0.         0.         0.         0.         0.         0.\n",
      "  0.         0.         0.7372549  0.86666667 0.83921569 0.91764706\n",
      "  0.9254902  0.93333333 0.95686275 0.95686275 0.95686275 0.94117647\n",
      "  0.95294118 0.83921569 0.87843137 0.63529412 0.         0.00784314\n",
      "  0.         0.         0.         0.        ]\n",
      " [0.         0.         0.         0.         0.         0.00392157\n",
      "  0.         0.         0.54509804 0.57254902 0.50980392 0.52941176\n",
      "  0.52941176 0.5372549  0.49019608 0.48627451 0.49019608 0.4745098\n",
      "  0.46666667 0.44705882 0.50980392 0.29803922 0.         0.\n",
      "  0.         0.         0.         0.        ]]\n"
     ]
    }
   ],
   "source": [
    "print(train_images[1].shape)\n",
    "print(\"  \")\n",
    "print(train_images[1])\n"
   ]
  },
  {
   "cell_type": "code",
   "execution_count": 5,
   "metadata": {
    "colab": {},
    "colab_type": "code",
    "id": "e80aQyuhqjqC"
   },
   "outputs": [],
   "source": [
    "class_names = ['T-Shirt/Top','Trouser','Pullover','Dress','Coat','Sandal','Shirt','Sneaker','Bag','Ankle Boot']\n",
    "#defined by tenserflow"
   ]
  },
  {
   "cell_type": "code",
   "execution_count": 29,
   "metadata": {
    "colab": {
     "base_uri": "https://localhost:8080/",
     "height": 34
    },
    "colab_type": "code",
    "executionInfo": {
     "elapsed": 2799,
     "status": "ok",
     "timestamp": 1587824687478,
     "user": {
      "displayName": "Umang Kejriwal",
      "photoUrl": "https://lh3.googleusercontent.com/a-/AOh14Gj76Gl6jqgff6ujv0NxoHqUfAaP6_V6lg4K5Hr5-A=s64",
      "userId": "06922987637552890318"
     },
     "user_tz": -330
    },
    "id": "Jq8g7v0PrPlk",
    "outputId": "62fdcc67-fd36-455e-b6e3-ef8e58d1e9db"
   },
   "outputs": [
    {
     "data": {
      "text/plain": [
       "array([9, 0, 0, ..., 3, 0, 5], dtype=uint8)"
      ]
     },
     "execution_count": 29,
     "metadata": {},
     "output_type": "execute_result"
    }
   ],
   "source": [
    "train_labels"
   ]
  },
  {
   "cell_type": "code",
   "execution_count": 30,
   "metadata": {
    "colab": {
     "base_uri": "https://localhost:8080/",
     "height": 265
    },
    "colab_type": "code",
    "executionInfo": {
     "elapsed": 2779,
     "status": "ok",
     "timestamp": 1587824687481,
     "user": {
      "displayName": "Umang Kejriwal",
      "photoUrl": "https://lh3.googleusercontent.com/a-/AOh14Gj76Gl6jqgff6ujv0NxoHqUfAaP6_V6lg4K5Hr5-A=s64",
      "userId": "06922987637552890318"
     },
     "user_tz": -330
    },
    "id": "VHpeiPkIrQYQ",
    "outputId": "773fd113-df69-4bd2-9d81-49da11f91d2a"
   },
   "outputs": [
    {
     "data": {
      "image/png": "[encoded data removed]",
      "text/plain": [
       "<Figure size 432x288 with 1 Axes>"
      ]
     },
     "metadata": {
      "needs_background": "light"
     },
     "output_type": "display_data"
    }
   ],
   "source": [
    "plt.imshow(train_images[1],cmap=plt.cm.binary)\n",
    "plt.show()"
   ]
  },
  {
   "cell_type": "code",
   "execution_count": 8,
   "metadata": {
    "colab": {},
    "colab_type": "code",
    "id": "_lrM8X--rltH"
   },
   "outputs": [],
   "source": [
    "#normalizing to range 0-1\n",
    "train_images = train_images/255.0\n",
    "test_images = test_images/255.0"
   ]
  },
  {
   "cell_type": "code",
   "execution_count": 35,
   "metadata": {
    "colab": {
     "base_uri": "https://localhost:8080/",
     "height": 589
    },
    "colab_type": "code",
    "executionInfo": {
     "elapsed": 4570,
     "status": "ok",
     "timestamp": 1587824689315,
     "user": {
      "displayName": "Umang Kejriwal",
      "photoUrl": "https://lh3.googleusercontent.com/a-/AOh14Gj76Gl6jqgff6ujv0NxoHqUfAaP6_V6lg4K5Hr5-A=s64",
      "userId": "06922987637552890318"
     },
     "user_tz": -330
    },
    "id": "ia9ydv6gr-Qx",
    "outputId": "18061fe9-fe8f-42e2-fc83-6b9e3e780b49"
   },
   "outputs": [
    {
     "data": {
      "image/png": "[encoded data removed]",
      "text/plain": [
       "<Figure size 720x720 with 20 Axes>"
      ]
     },
     "metadata": {},
     "output_type": "display_data"
    }
   ],
   "source": [
    "plt.figure(figsize=(10,10))\n",
    "for i in range(20):\n",
    "  plt.subplot(4,5,i+1) #subplot to divide into sub part with x rows then y columns and i to increase value of var i by 1 \n",
    "  plt.grid(False)    #not needed\n",
    "  plt.xticks([])     #to remove indexing on x and y axises respectively\n",
    "  plt.yticks([])\n",
    "  plt.imshow(train_images[i],cmap=plt.cm.binary) \n",
    "  plt.xlabel(class_names[train_labels[i]])    \n",
    "plt.show()"
   ]
  },
  {
   "cell_type": "code",
   "execution_count": 10,
   "metadata": {
    "colab": {},
    "colab_type": "code",
    "id": "t1LxTUEYsrLC"
   },
   "outputs": [],
   "source": [
    "model = tf.keras.models.Sequential()\n",
    "model.add(tf.keras.layers.Flatten())      #input\n",
    "model.add(tf.keras.layers.Dense(784,activation='relu'))       #hidden\n",
    "model.add(tf.keras.layers.Dense(600,activation='relu'))       #hidden\n",
    "model.add(tf.keras.layers.Dense(64,activation='relu'))       #hidden\n",
    "model.add(tf.keras.layers.Dense(10,activation='softmax'))       #output"
   ]
  },
  {
   "cell_type": "code",
   "execution_count": 11,
   "metadata": {
    "colab": {},
    "colab_type": "code",
    "id": "HKbwFPjSt4v4"
   },
   "outputs": [],
   "source": [
    "model.compile(optimizer='adam',loss='sparse_categorical_crossentropy',metrics=['accuracy'])"
   ]
  },
  {
   "cell_type": "code",
   "execution_count": 12,
   "metadata": {
    "colab": {
     "base_uri": "https://localhost:8080/",
     "height": 202
    },
    "colab_type": "code",
    "executionInfo": {
     "elapsed": 97550,
     "status": "ok",
     "timestamp": 1587824782368,
     "user": {
      "displayName": "Umang Kejriwal",
      "photoUrl": "https://lh3.googleusercontent.com/a-/AOh14Gj76Gl6jqgff6ujv0NxoHqUfAaP6_V6lg4K5Hr5-A=s64",
      "userId": "06922987637552890318"
     },
     "user_tz": -330
    },
    "id": "ObS3y1M1uELR",
    "outputId": "772e2e2a-eb6b-4b63-9ab0-610aaacea6ca"
   },
   "outputs": [
    {
     "name": "stdout",
     "output_type": "stream",
     "text": [
      "Train on 60000 samples\n",
      "Epoch 1/5\n",
      "60000/60000 [==============================] - 15s 247us/sample - loss: 0.4749 - accuracy: 0.8270\n",
      "Epoch 2/5\n",
      "60000/60000 [==============================] - 14s 237us/sample - loss: 0.3609 - accuracy: 0.8675\n",
      "Epoch 3/5\n",
      "60000/60000 [==============================] - 14s 236us/sample - loss: 0.3275 - accuracy: 0.8792\n",
      "Epoch 4/5\n",
      "60000/60000 [==============================] - 15s 242us/sample - loss: 0.3029 - accuracy: 0.8868\n",
      "Epoch 5/5\n",
      "60000/60000 [==============================] - 14s 240us/sample - loss: 0.2829 - accuracy: 0.8946\n"
     ]
    },
    {
     "data": {
      "text/plain": [
       "<tensorflow.python.keras.callbacks.History at 0x141d1c241d0>"
      ]
     },
     "execution_count": 12,
     "metadata": {},
     "output_type": "execute_result"
    }
   ],
   "source": [
    "model.fit(train_images,train_labels,epochs=5)"
   ]
  },
  {
   "cell_type": "code",
   "execution_count": 13,
   "metadata": {
    "colab": {
     "base_uri": "https://localhost:8080/",
     "height": 50
    },
    "colab_type": "code",
    "executionInfo": {
     "elapsed": 1883,
     "status": "ok",
     "timestamp": 1587824875600,
     "user": {
      "displayName": "Umang Kejriwal",
      "photoUrl": "https://lh3.googleusercontent.com/a-/AOh14Gj76Gl6jqgff6ujv0NxoHqUfAaP6_V6lg4K5Hr5-A=s64",
      "userId": "06922987637552890318"
     },
     "user_tz": -330
    },
    "id": "Je1pMnMzuK82",
    "outputId": "4e0ea1f3-1641-4d4b-ef74-61a91cd71cd6"
   },
   "outputs": [
    {
     "name": "stdout",
     "output_type": "stream",
     "text": [
      "10000/10000 [==============================] - 1s 81us/sample - loss: 0.3417 - accuracy: 0.8769\n",
      "0.34167513777017594 0.8769\n"
     ]
    }
   ],
   "source": [
    "test_loss,test_accu = model.evaluate(test_images,test_labels)\n",
    "print(test_loss,test_accu)\n",
    "#aplying on test dataset to get accuracy"
   ]
  },
  {
   "cell_type": "code",
   "execution_count": 14,
   "metadata": {
    "colab": {},
    "colab_type": "code",
    "id": "DaZUNl1_vM_j"
   },
   "outputs": [],
   "source": [
    "predictions = model.predict(test_images)"
   ]
  },
  {
   "cell_type": "code",
   "execution_count": 43,
   "metadata": {
    "colab": {
     "base_uri": "https://localhost:8080/",
     "height": 265
    },
    "colab_type": "code",
    "executionInfo": {
     "elapsed": 936,
     "status": "ok",
     "timestamp": 1587825038264,
     "user": {
      "displayName": "Umang Kejriwal",
      "photoUrl": "https://lh3.googleusercontent.com/a-/AOh14Gj76Gl6jqgff6ujv0NxoHqUfAaP6_V6lg4K5Hr5-A=s64",
      "userId": "06922987637552890318"
     },
     "user_tz": -330
    },
    "id": "kMj3aBE4vb7-",
    "outputId": "151815bd-4823-4618-c5cb-b8dc3dc970d5"
   },
   "outputs": [
    {
     "data": {
      "image/png": "[encoded data removed]",
      "text/plain": [
       "<Figure size 432x288 with 1 Axes>"
      ]
     },
     "metadata": {
      "needs_background": "light"
     },
     "output_type": "display_data"
    }
   ],
   "source": [
    "plt.imshow(test_images[80],cmap=plt.cm.binary)\n",
    "plt.show()"
   ]
  },
  {
   "cell_type": "code",
   "execution_count": 44,
   "metadata": {
    "colab": {
     "base_uri": "https://localhost:8080/",
     "height": 34
    },
    "colab_type": "code",
    "executionInfo": {
     "elapsed": 3402,
     "status": "ok",
     "timestamp": 1587825107414,
     "user": {
      "displayName": "Umang Kejriwal",
      "photoUrl": "https://lh3.googleusercontent.com/a-/AOh14Gj76Gl6jqgff6ujv0NxoHqUfAaP6_V6lg4K5Hr5-A=s64",
      "userId": "06922987637552890318"
     },
     "user_tz": -330
    },
    "id": "c4QRcMervoK-",
    "outputId": "8e96c003-1d53-490e-d219-5e92e31cef81"
   },
   "outputs": [
    {
     "data": {
      "text/plain": [
       "1"
      ]
     },
     "execution_count": 44,
     "metadata": {},
     "output_type": "execute_result"
    }
   ],
   "source": [
    "np.argmax(predictions[80])"
   ]
  },
  {
   "cell_type": "code",
   "execution_count": 46,
   "metadata": {},
   "outputs": [
    {
     "data": {
      "text/plain": [
       "1"
      ]
     },
     "execution_count": 46,
     "metadata": {},
     "output_type": "execute_result"
    }
   ],
   "source": [
    "test_labels[80]"
   ]
  },
  {
   "cell_type": "code",
   "execution_count": 45,
   "metadata": {
    "colab": {
     "base_uri": "https://localhost:8080/",
     "height": 34
    },
    "colab_type": "code",
    "executionInfo": {
     "elapsed": 868,
     "status": "ok",
     "timestamp": 1587825100617,
     "user": {
      "displayName": "Umang Kejriwal",
      "photoUrl": "https://lh3.googleusercontent.com/a-/AOh14Gj76Gl6jqgff6ujv0NxoHqUfAaP6_V6lg4K5Hr5-A=s64",
      "userId": "06922987637552890318"
     },
     "user_tz": -330
    },
    "id": "9qnqRiWhvuB6",
    "outputId": "514edcd6-3acd-44a2-d58c-607012eefcae"
   },
   "outputs": [
    {
     "name": "stdout",
     "output_type": "stream",
     "text": [
      "Trouser\n"
     ]
    }
   ],
   "source": [
    "x=test_labels[80]\n",
    "print(class_names[x])"
   ]
  },
  {
   "cell_type": "code",
   "execution_count": null,
   "metadata": {
    "colab": {},
    "colab_type": "code",
    "id": "jfHUycWVv7h7"
   },
   "outputs": [],
   "source": []
  }
 ],
 "metadata": {
  "colab": {
   "name": "Copy of MNIST Fashion Data Set.ipynb",
   "provenance": [
    {
     "file_id": "1T5dNiSRXkbtcyz6fmU_G8MVnLUlUvPq7",
     "timestamp": 1588466296245
    }
   ]
  },
  "kernelspec": {
   "display_name": "Python 3",
   "language": "python",
   "name": "python3"
  },
  "language_info": {
   "codemirror_mode": {
    "name": "ipython",
    "version": 3
   },
   "file_extension": ".py",
   "mimetype": "text/x-python",
   "name": "python",
   "nbconvert_exporter": "python",
   "pygments_lexer": "ipython3",
   "version": "3.7.3"
  }
 },
 "nbformat": 4,
 "nbformat_minor": 1
}
